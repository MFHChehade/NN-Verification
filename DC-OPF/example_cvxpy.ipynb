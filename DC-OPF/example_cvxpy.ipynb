{
 "cells": [
  {
   "cell_type": "code",
   "execution_count": 1,
   "metadata": {},
   "outputs": [
    {
     "name": "stdout",
     "output_type": "stream",
     "text": [
      "Generator outputs (MW): [44. 46.]\n",
      "Bus angles (radians): [ 0.35  0.75 -1.85]\n",
      "Line flows (MW): [-4.000000000000008, 25.999999999999986]\n",
      "Optimal Cost ($): 208.10000000000002\n"
     ]
    }
   ],
   "source": [
    "import cvxpy as cp\n",
    "\n",
    "# Define the data for the problem\n",
    "n_buses = 3\n",
    "n_lines = 2\n",
    "n_gens = 2\n",
    "Pd = [40, 30, 20]  # Demand at each bus\n",
    "X = [0.1, 0.1]      # Line reactances\n",
    "gen_limits = [(10, 100), (10, 100)]  # (Pmin, Pmax) for each generator\n",
    "cost_coeffs = [(0.01, 2, 0), (0.015, 1.5, 0)]  # (c, b, a) for each generator\n",
    "\n",
    "# Define variables\n",
    "theta = cp.Variable(n_buses)\n",
    "Pg = cp.Variable(n_gens)\n",
    "\n",
    "# Objective function\n",
    "objective = cp.Minimize(sum(cost_coeffs[i][0]*Pg[i]**2 + cost_coeffs[i][1]*Pg[i] + cost_coeffs[i][2] for i in range(n_gens)))\n",
    "\n",
    "# Power flow expressions\n",
    "Pf = [(theta[i] - theta[i + 1]) / X[i] for i in range(n_lines)]\n",
    "\n",
    "# Constraints\n",
    "constraints = []\n",
    "\n",
    "# Power balance at each bus\n",
    "constraints += [Pg[0] - Pd[0] + Pf[0] == 0]  # Bus 1\n",
    "constraints += [-Pf[0] + Pf[1] - Pd[1] == 0] # Bus 2\n",
    "constraints += [Pg[1] - Pd[2] - Pf[1] == 0]  # Bus 3\n",
    "\n",
    "# Generator limits\n",
    "for i in range(n_gens):\n",
    "    constraints += [Pg[i] >= gen_limits[i][0], Pg[i] <= gen_limits[i][1]]\n",
    "\n",
    "# Solve the problem\n",
    "problem = cp.Problem(objective, constraints)\n",
    "problem.solve()\n",
    "\n",
    "# Print results\n",
    "print(\"Generator outputs (MW):\", Pg.value)\n",
    "print(\"Bus angles (radians):\", theta.value)\n",
    "print(\"Line flows (MW):\", [p.value for p in Pf])\n",
    "print(\"Optimal Cost ($):\", problem.value)\n"
   ]
  }
 ],
 "metadata": {
  "kernelspec": {
   "display_name": "Python 3",
   "language": "python",
   "name": "python3"
  },
  "language_info": {
   "codemirror_mode": {
    "name": "ipython",
    "version": 3
   },
   "file_extension": ".py",
   "mimetype": "text/x-python",
   "name": "python",
   "nbconvert_exporter": "python",
   "pygments_lexer": "ipython3",
   "version": "3.11.1"
  }
 },
 "nbformat": 4,
 "nbformat_minor": 2
}
