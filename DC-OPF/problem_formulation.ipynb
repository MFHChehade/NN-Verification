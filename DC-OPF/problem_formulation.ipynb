{
 "cells": [
  {
   "cell_type": "markdown",
   "metadata": {},
   "source": [
    "# DC Optimal Power Flow (DC OPF) Problem Formulation\n",
    "\n",
    "## Decision Variables\n",
    "- $ \\theta_i $: Phase angle at bus $ i $ in radians.\n",
    "- $ P_{G_i} $: Power generation at generator $ i $ in MW.\n",
    "\n",
    "## Objective Function\n",
    "**Minimize the total cost of generation:**\n",
    "$$ \\text{Minimize} \\sum_{i \\in G} c_i P_{G_i}^2 + b_i P_{G_i} + a_i $$\n",
    "Where:\n",
    "- $ c_i $, $ b_i $, and $ a_i $ are the cost coefficients for generator $ i $.\n",
    "- $ G $ is the set of all generators.\n",
    "\n",
    "## Constraints\n",
    "\n",
    "### Power Balance Constraint\n",
    "For each bus $ i $:\n",
    "$$ \\sum_{j \\in N(i)} P_{ij} = P_{G_i} - P_{D_i} $$\n",
    "- $ P_{ij} $ is the power flow from bus $ i $ to bus $ j $.\n",
    "- $ P_{D_i} $ is the demand at bus $ i $.\n",
    "- $ N(i) $ is the set of buses connected to bus $ i $.\n",
    "\n",
    "### DC Power Flow Equations\n",
    "The power flow on each line:\n",
    "$$ P_{ij} = \\frac{\\theta_i - \\theta_j}{X_{ij}} $$\n",
    "- $ X_{ij} $ is the reactance of the line connecting buses $ i $ and $ j $.\n",
    "- $ L $ is the set of all lines.\n",
    "\n",
    "### Generation Limits\n",
    "Each generator has a minimum and maximum generation limit:\n",
    "$$ P_{G_i}^{\\text{min}} \\leq P_{G_i} \\leq P_{G_i}^{\\text{max}} $$\n",
    "- $ G $ is the set of all generators.\n",
    "\n",
    "### Angle Reference\n",
    "One bus is selected as the reference with a fixed phase angle (typically zero):\n",
    "$$ \\theta_{\\text{ref}} = 0 $$\n"
   ]
  }
 ],
 "metadata": {
  "language_info": {
   "name": "python"
  }
 },
 "nbformat": 4,
 "nbformat_minor": 2
}
