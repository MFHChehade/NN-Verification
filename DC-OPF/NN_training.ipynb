{
 "cells": [
  {
   "cell_type": "markdown",
   "metadata": {},
   "source": [
    "### Prepare the dataset"
   ]
  },
  {
   "cell_type": "code",
   "execution_count": 10,
   "metadata": {},
   "outputs": [],
   "source": [
    "import torch\n",
    "from torch.utils.data import DataLoader, TensorDataset, random_split\n",
    "import numpy as np\n",
    "import pandas as pd\n"
   ]
  },
  {
   "cell_type": "code",
   "execution_count": 11,
   "metadata": {},
   "outputs": [],
   "source": [
    "# import the dataset from results.csv\n",
    "\n",
    "df_results = pd.read_csv('results.csv')"
   ]
  },
  {
   "cell_type": "code",
   "execution_count": 12,
   "metadata": {},
   "outputs": [],
   "source": [
    "# Load your data into a pandas DataFrame (assuming df_results is already loaded and preprocessed)\n",
    "# Make sure to remove any NaN values or preprocess as required\n",
    "df_results.dropna(inplace=True)\n",
    "\n",
    "max_gen1 = 95  # Maximum generation capacity for Gen1\n",
    "max_gen2 = 95  # Maximum generation capacity for Gen2\n",
    "min_gen1 = 70  # Minimum generation capacity for Gen1\n",
    "min_gen2 = 70  # Minimum generation capacity for Gen2\n"
   ]
  },
  {
   "cell_type": "code",
   "execution_count": 13,
   "metadata": {},
   "outputs": [],
   "source": [
    "# Input features (demands)\n",
    "X = df_results[['Demand1', 'Demand2', 'Demand3']].values\n",
    "X_tensor = torch.tensor(X, dtype=torch.float32)\n",
    "\n",
    "# Only the generator outputs needed directly for learning\n",
    "y = df_results[['Gen1', 'Gen2']].values\n",
    "y_tensor = torch.tensor(y, dtype=torch.float32)\n",
    "\n",
    "# Create the dataset from tensors\n",
    "dataset = TensorDataset(X_tensor, y_tensor)\n"
   ]
  },
  {
   "cell_type": "code",
   "execution_count": 14,
   "metadata": {},
   "outputs": [],
   "source": [
    "# Split the dataset into 80% training and 20% testing\n",
    "train_size = int(0.8 * len(dataset))\n",
    "test_size = len(dataset) - train_size\n",
    "train_dataset, test_dataset = random_split(dataset, [train_size, test_size])\n",
    "\n",
    "# Create DataLoaders for both training and testing datasets\n",
    "train_loader = DataLoader(train_dataset, batch_size=64, shuffle=True)\n",
    "test_loader = DataLoader(test_dataset, batch_size=64, shuffle=False)"
   ]
  },
  {
   "cell_type": "markdown",
   "metadata": {},
   "source": [
    "### initialize the neural network"
   ]
  },
  {
   "cell_type": "code",
   "execution_count": 17,
   "metadata": {},
   "outputs": [],
   "source": [
    "from torch import nn\n",
    "\n",
    "class NeuralNet(nn.Module):\n",
    "    def __init__(self):\n",
    "        super(NeuralNet, self).__init__()\n",
    "        # Define only the layers that will learn weights\n",
    "        self.layer1 = nn.Linear(3, 10)  # 3 input features, 10 hidden units\n",
    "        self.relu = nn.ReLU()\n",
    "        self.layer2 = nn.Linear(10, 2)  # Only 2 outputs will have learned parameters\n",
    "\n",
    "    def forward(self, x):\n",
    "        # Pass input through the learning layers\n",
    "        x = self.layer1(x)\n",
    "        x = self.relu(x)\n",
    "        x = self.layer2(x)\n",
    "\n",
    "        # Prepare the output tensor with additional slots for manual outputs\n",
    "        # Assuming x.shape[0] is the batch size\n",
    "        output = torch.zeros(x.shape[0], 6, device=x.device)\n",
    "        output[:, 0:2] = x  # Fill learned outputs\n",
    "\n",
    "        # Manually compute the additional outputs\n",
    "        output[:, 2] = max_gen1 - output[:, 0]  # Difference between max possible generation and actual Gen1\n",
    "        output[:, 3] = output[:, 0] - min_gen1 # Difference between min possible generation and actual Gen1\n",
    "        output[:, 4] = max_gen2 - output[:, 1]  # Difference between max possible generation and actual Gen2\n",
    "        output[:, 5] = output[:, 1] - min_gen2 # Difference between min possible generation and actual Gen2\n",
    "\n",
    "        return output\n",
    "\n",
    "model = NeuralNet()\n"
   ]
  },
  {
   "cell_type": "markdown",
   "metadata": {},
   "source": [
    "### train the neural network"
   ]
  },
  {
   "cell_type": "code",
   "execution_count": 18,
   "metadata": {},
   "outputs": [
    {
     "name": "stdout",
     "output_type": "stream",
     "text": [
      "Epoch [1/100], Loss: 2785.5928\n",
      "Epoch [2/100], Loss: 574.6868\n",
      "Epoch [3/100], Loss: 22.5000\n",
      "Epoch [4/100], Loss: 4.2998\n",
      "Epoch [5/100], Loss: 4.1347\n",
      "Epoch [6/100], Loss: 2.4780\n",
      "Epoch [7/100], Loss: 3.7333\n",
      "Epoch [8/100], Loss: 1.8828\n",
      "Epoch [9/100], Loss: 3.6442\n",
      "Epoch [10/100], Loss: 1.9651\n",
      "Epoch [11/100], Loss: 2.8865\n",
      "Epoch [12/100], Loss: 3.7141\n",
      "Epoch [13/100], Loss: 3.0483\n",
      "Epoch [14/100], Loss: 2.6958\n",
      "Epoch [15/100], Loss: 2.7357\n",
      "Epoch [16/100], Loss: 2.5317\n",
      "Epoch [17/100], Loss: 3.3942\n",
      "Epoch [18/100], Loss: 3.6729\n",
      "Epoch [19/100], Loss: 3.9608\n",
      "Epoch [20/100], Loss: 2.5030\n",
      "Epoch [21/100], Loss: 3.0523\n",
      "Epoch [22/100], Loss: 1.8785\n",
      "Epoch [23/100], Loss: 1.5042\n",
      "Epoch [24/100], Loss: 1.6391\n",
      "Epoch [25/100], Loss: 1.4753\n",
      "Epoch [26/100], Loss: 0.9267\n",
      "Epoch [27/100], Loss: 1.4742\n",
      "Epoch [28/100], Loss: 1.2181\n",
      "Epoch [29/100], Loss: 1.4462\n",
      "Epoch [30/100], Loss: 0.7680\n",
      "Epoch [31/100], Loss: 2.6373\n",
      "Epoch [32/100], Loss: 0.7294\n",
      "Epoch [33/100], Loss: 0.7947\n",
      "Epoch [34/100], Loss: 1.5335\n",
      "Epoch [35/100], Loss: 0.6105\n",
      "Epoch [36/100], Loss: 0.7680\n",
      "Epoch [37/100], Loss: 0.4679\n",
      "Epoch [38/100], Loss: 1.6023\n",
      "Epoch [39/100], Loss: 0.4445\n",
      "Epoch [40/100], Loss: 0.7173\n",
      "Epoch [41/100], Loss: 0.7158\n",
      "Epoch [42/100], Loss: 0.2626\n",
      "Epoch [43/100], Loss: 1.0401\n",
      "Epoch [44/100], Loss: 0.2257\n",
      "Epoch [45/100], Loss: 1.8443\n",
      "Epoch [46/100], Loss: 1.6322\n",
      "Epoch [47/100], Loss: 0.2197\n",
      "Epoch [48/100], Loss: 3.5592\n",
      "Epoch [49/100], Loss: 2.3920\n",
      "Epoch [50/100], Loss: 1.2023\n",
      "Epoch [51/100], Loss: 0.2473\n",
      "Epoch [52/100], Loss: 1.1419\n",
      "Epoch [53/100], Loss: 0.1619\n",
      "Epoch [54/100], Loss: 0.4032\n",
      "Epoch [55/100], Loss: 1.0837\n",
      "Epoch [56/100], Loss: 0.4455\n",
      "Epoch [57/100], Loss: 0.2242\n",
      "Epoch [58/100], Loss: 1.4871\n",
      "Epoch [59/100], Loss: 1.2713\n",
      "Epoch [60/100], Loss: 1.3538\n",
      "Epoch [61/100], Loss: 0.6871\n",
      "Epoch [62/100], Loss: 1.4403\n",
      "Epoch [63/100], Loss: 0.5226\n",
      "Epoch [64/100], Loss: 0.0802\n",
      "Epoch [65/100], Loss: 0.3948\n",
      "Epoch [66/100], Loss: 0.8686\n",
      "Epoch [67/100], Loss: 0.4837\n",
      "Epoch [68/100], Loss: 1.2324\n",
      "Epoch [69/100], Loss: 0.2213\n",
      "Epoch [70/100], Loss: 2.5221\n",
      "Epoch [71/100], Loss: 0.4549\n",
      "Epoch [72/100], Loss: 0.2602\n",
      "Epoch [73/100], Loss: 0.1705\n",
      "Epoch [74/100], Loss: 0.1530\n",
      "Epoch [75/100], Loss: 1.5262\n",
      "Epoch [76/100], Loss: 1.9245\n",
      "Epoch [77/100], Loss: 1.0094\n",
      "Epoch [78/100], Loss: 0.2116\n",
      "Epoch [79/100], Loss: 2.1376\n",
      "Epoch [80/100], Loss: 1.2177\n",
      "Epoch [81/100], Loss: 0.2142\n",
      "Epoch [82/100], Loss: 0.6759\n",
      "Epoch [83/100], Loss: 2.3464\n",
      "Epoch [84/100], Loss: 0.1113\n",
      "Epoch [85/100], Loss: 0.5529\n",
      "Epoch [86/100], Loss: 1.2654\n",
      "Epoch [87/100], Loss: 0.1866\n",
      "Epoch [88/100], Loss: 2.7077\n",
      "Epoch [89/100], Loss: 0.1623\n",
      "Epoch [90/100], Loss: 0.3144\n",
      "Epoch [91/100], Loss: 1.7069\n",
      "Epoch [92/100], Loss: 0.7263\n",
      "Epoch [93/100], Loss: 2.1096\n",
      "Epoch [94/100], Loss: 1.6366\n",
      "Epoch [95/100], Loss: 1.1746\n",
      "Epoch [96/100], Loss: 0.4101\n",
      "Epoch [97/100], Loss: 1.2927\n",
      "Epoch [98/100], Loss: 0.2966\n",
      "Epoch [99/100], Loss: 1.0178\n",
      "Epoch [100/100], Loss: 0.1716\n"
     ]
    }
   ],
   "source": [
    "from torch import nn, optim\n",
    "from torch.utils.data import DataLoader\n",
    "\n",
    "# Assume your model, optimizer, and criterion have been defined as before\n",
    "model = NeuralNet()\n",
    "criterion = nn.MSELoss()\n",
    "optimizer = optim.Adam(model.parameters(), lr=0.001)\n",
    "num_epochs = 100\n",
    "losses = []\n",
    "\n",
    "train_loader = DataLoader(dataset, batch_size=10, shuffle=True)\n",
    "\n",
    "# Training loop\n",
    "for epoch in range(num_epochs):\n",
    "    for inputs, targets in train_loader:\n",
    "        optimizer.zero_grad()\n",
    "        \n",
    "        # Compute model outputs\n",
    "        outputs = model(inputs)\n",
    "        \n",
    "        # Only apply loss to the first two outputs, which are learnable\n",
    "        loss = criterion(outputs[:, :2], targets[:, :2])\n",
    "        \n",
    "        # Backpropagation and optimization\n",
    "        loss.backward()\n",
    "        optimizer.step()\n",
    "        \n",
    "        losses.append(loss.item())\n",
    "        \n",
    "    print(f'Epoch [{epoch+1}/{num_epochs}], Loss: {loss.item():.4f}')\n"
   ]
  },
  {
   "cell_type": "code",
   "execution_count": 19,
   "metadata": {},
   "outputs": [],
   "source": [
    "# save the pytorch model \n",
    "\n",
    "torch.save(model.state_dict(), 'model.pth')"
   ]
  },
  {
   "cell_type": "markdown",
   "metadata": {},
   "source": [
    "### visualize the training error and compute testing metrics"
   ]
  },
  {
   "cell_type": "code",
   "execution_count": 20,
   "metadata": {},
   "outputs": [
    {
     "data": {
      "text/plain": [
       "[<matplotlib.lines.Line2D at 0x2c488dc0090>]"
      ]
     },
     "execution_count": 20,
     "metadata": {},
     "output_type": "execute_result"
    },
    {
     "data": {
      "image/png": "[encoded data removed]",
      "text/plain": [
       "<Figure size 640x480 with 1 Axes>"
      ]
     },
     "metadata": {},
     "output_type": "display_data"
    }
   ],
   "source": [
    "import matplotlib.pyplot as plt\n",
    "\n",
    "plt.plot(losses)"
   ]
  },
  {
   "cell_type": "code",
   "execution_count": 22,
   "metadata": {},
   "outputs": [
    {
     "name": "stdout",
     "output_type": "stream",
     "text": [
      "RMSE on Test Set: 0.6414\n"
     ]
    }
   ],
   "source": [
    "# RMSE calculation as previously\n",
    "model.eval()\n",
    "total_loss = 0\n",
    "with torch.no_grad():\n",
    "    for inputs, targets in test_loader:\n",
    "        outputs = model(inputs)\n",
    "        loss = criterion(outputs[:, :2], targets[:, :2])\n",
    "        total_loss += loss.item()\n",
    "rmse = np.sqrt(total_loss / len(test_loader))\n",
    "\n",
    "# Display RMSE and plot learning curve\n",
    "print(f\"RMSE on Test Set: {rmse:.4f}\")"
   ]
  },
  {
   "cell_type": "markdown",
   "metadata": {},
   "source": [
    "### test the constraint violations"
   ]
  },
  {
   "cell_type": "code",
   "execution_count": 26,
   "metadata": {},
   "outputs": [
    {
     "data": {
      "image/png": "[encoded data removed]",
      "text/plain": [
       "<Figure size 640x480 with 1 Axes>"
      ]
     },
     "metadata": {},
     "output_type": "display_data"
    }
   ],
   "source": [
    "import matplotlib.pyplot as plt\n",
    "\n",
    "# Assuming that test_loader is already set up and contains the necessary data\n",
    "# Extract the additional output data from the test set\n",
    "additional_output_values = []  # This will store the differences\n",
    "\n",
    "# Evaluate the model to get outputs\n",
    "model.eval()\n",
    "with torch.no_grad():\n",
    "    for inputs, targets in test_loader:\n",
    "        outputs = model(inputs)\n",
    "        additional_output_values.extend(outputs[:, 2].numpy())  # Assuming the third output is the difference\n",
    "\n",
    "# Plot the histogram of the additional output values\n",
    "plt.hist(additional_output_values, bins=30, alpha=0.7, color='blue')\n",
    "plt.title('Histogram of Difference from Max Generation at Bus 1')\n",
    "plt.xlabel('Difference (Max Gen 1 - Actual Gen 1)')\n",
    "plt.ylabel('Frequency')\n",
    "\n",
    "# Add a vertical line at the maximum generation limit\n",
    "max_gen1 = 100  # maximum generation capacity for Gen1\n",
    "plt.axvline(0, color='red', linestyle='dashed', linewidth=1)\n",
    "plt.text(max_gen1 + 1, plt.ylim()[1] * 0.9, 'Max Gen1', color='red')\n",
    "\n",
    "plt.show()\n"
   ]
  }
 ],
 "metadata": {
  "kernelspec": {
   "display_name": "Python 3",
   "language": "python",
   "name": "python3"
  },
  "language_info": {
   "codemirror_mode": {
    "name": "ipython",
    "version": 3
   },
   "file_extension": ".py",
   "mimetype": "text/x-python",
   "name": "python",
   "nbconvert_exporter": "python",
   "pygments_lexer": "ipython3",
   "version": "3.11.1"
  }
 },
 "nbformat": 4,
 "nbformat_minor": 2
}
