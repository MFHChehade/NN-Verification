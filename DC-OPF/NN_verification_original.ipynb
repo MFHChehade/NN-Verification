{
 "cells": [
  {
   "cell_type": "markdown",
   "metadata": {},
   "source": [
    "### Load the neural network"
   ]
  },
  {
   "cell_type": "code",
   "execution_count": 28,
   "metadata": {},
   "outputs": [],
   "source": [
    "import torch\n",
    "from torch import nn"
   ]
  },
  {
   "cell_type": "code",
   "execution_count": 29,
   "metadata": {},
   "outputs": [],
   "source": [
    "max_gen1 = 95  # Maximum generation capacity for Gen1\n",
    "max_gen2 = 95  # Maximum generation capacity for Gen2\n",
    "min_gen1 = 70  # Minimum generation capacity for Gen1\n",
    "min_gen2 = 70  # Minimum generation capacity for Gen2"
   ]
  },
  {
   "cell_type": "code",
   "execution_count": 30,
   "metadata": {},
   "outputs": [],
   "source": [
    "class NeuralNet(nn.Module):\n",
    "    def __init__(self):\n",
    "        super(NeuralNet, self).__init__()\n",
    "        # Define only the layers that will learn weights\n",
    "        self.layer1 = nn.Linear(3, 10)  # 3 input features, 10 hidden units\n",
    "        self.relu = nn.ReLU()\n",
    "        self.layer2 = nn.Linear(10, 2)  # Only 2 outputs will have learned parameters\n",
    "\n",
    "    def forward(self, x):\n",
    "        # Pass input through the learning layers\n",
    "        x = self.layer1(x)\n",
    "        x = self.relu(x)\n",
    "        x = self.layer2(x)\n",
    "\n",
    "        output = x\n",
    "\n",
    "        # # Prepare the output tensor with additional slots for manual outputs\n",
    "        # # Assuming x.shape[0] is the batch size\n",
    "        # output = torch.zeros(x.shape[0], 6, device=x.device)\n",
    "        # output[:, 0:2] = x  # Fill learned outputs\n",
    "\n",
    "        # # Manually compute the additional outputs\n",
    "        # output[:, 2] = max_gen1 - output[:, 0]  # Difference between max possible generation and actual Gen1\n",
    "        # output[:, 3] = output[:, 0] - min_gen1 # Difference between min possible generation and actual Gen1\n",
    "        # output[:, 4] = max_gen2 - output[:, 1]  # Difference between max possible generation and actual Gen2\n",
    "        # output[:, 5] = output[:, 1] - min_gen2 # Difference between min possible generation and actual Gen2\n",
    "\n",
    "        return output"
   ]
  },
  {
   "cell_type": "code",
   "execution_count": 31,
   "metadata": {},
   "outputs": [
    {
     "name": "stdout",
     "output_type": "stream",
     "text": [
      "Model loaded successfully.\n"
     ]
    }
   ],
   "source": [
    "# Path to the saved model\n",
    "model_path = \"model.pth\"\n",
    "\n",
    "# Load the model\n",
    "model = NeuralNet()\n",
    "model.load_state_dict(torch.load(model_path))\n",
    "\n",
    "print(\"Model loaded successfully.\")"
   ]
  },
  {
   "cell_type": "code",
   "execution_count": 32,
   "metadata": {},
   "outputs": [
    {
     "name": "stdout",
     "output_type": "stream",
     "text": [
      "Model output: tensor([[67.5555, 62.2476]], grad_fn=<AddmmBackward0>)\n"
     ]
    }
   ],
   "source": [
    "# test the output of the neural network\n",
    "\n",
    "some_input = torch.tensor([[50.0, 40.0, 75.0]])\n",
    "output = model(some_input)\n",
    "print(\"Model output:\", output)"
   ]
  },
  {
   "cell_type": "markdown",
   "metadata": {},
   "source": [
    "### Export the model to ONNX"
   ]
  },
  {
   "cell_type": "code",
   "execution_count": 33,
   "metadata": {},
   "outputs": [],
   "source": [
    "import torch\n",
    "import torch.onnx\n",
    "import tempfile\n",
    "\n",
    "# Assuming model is the instance of SimpleModel you defined and trained previously\n",
    "\n",
    "# Model input for exporting (batch size of 10, each with 1 feature)\n",
    "x_temp = some_input\n",
    "\n",
    "# Export the model\n",
    "with tempfile.NamedTemporaryFile(suffix='.onnx', delete=False) as f:\n",
    "    #export neural network to ONNX\n",
    "    torch.onnx.export(\n",
    "        model,\n",
    "        x_temp,\n",
    "        f,\n",
    "        input_names=['input'],\n",
    "        output_names=['output'],\n",
    "        dynamic_axes={\n",
    "            'input': {0: 'batch_size'},\n",
    "            'output': {0: 'batch_size'}\n",
    "        }\n",
    "    )"
   ]
  },
  {
   "cell_type": "markdown",
   "metadata": {},
   "source": [
    "### Load the model to OMLT"
   ]
  },
  {
   "cell_type": "code",
   "execution_count": 34,
   "metadata": {},
   "outputs": [],
   "source": [
    "import numpy as np\n",
    "\n",
    "epsilon_infinity = 10\n",
    "center = np.array([50, 40, 75])\n",
    "\n",
    "lb = center - epsilon_infinity\n",
    "ub = center + epsilon_infinity\n",
    "\n",
    "input_bounds = {}\n",
    "\n",
    "for i in range(3):\n",
    "    input_bounds[i] = (float(lb[i]), float(ub[i])) "
   ]
  },
  {
   "cell_type": "code",
   "execution_count": 35,
   "metadata": {},
   "outputs": [
    {
     "name": "stdout",
     "output_type": "stream",
     "text": [
      "C:\\Users\\HP\\AppData\\Local\\Temp\\tmpg5rghg69.onnx\n"
     ]
    }
   ],
   "source": [
    "from omlt import OmltBlock\n",
    "from omlt.neuralnet import FullSpaceNNFormulation\n",
    "from omlt.io import write_onnx_model_with_bounds, load_onnx_neural_network_with_bounds\n",
    "\n",
    "write_onnx_model_with_bounds(f.name, None, input_bounds)\n",
    "\n",
    "#load the network definition from the ONNX model\n",
    "print(f.name)\n",
    "network_definition = load_onnx_neural_network_with_bounds(f.name)\n",
    "formulation = FullSpaceNNFormulation(network_definition)"
   ]
  },
  {
   "cell_type": "markdown",
   "metadata": {},
   "source": [
    "### Model the optimization problem with Pyomo"
   ]
  },
  {
   "cell_type": "code",
   "execution_count": 36,
   "metadata": {},
   "outputs": [],
   "source": [
    "l1_norm_ball = False\n",
    "l2_norm_ball = False\n",
    "\n",
    "power_balance = True \n",
    "pb_ub_condition = True\n",
    "\n",
    "grid_search = False "
   ]
  },
  {
   "cell_type": "markdown",
   "metadata": {},
   "source": [
    "### Power Balance Objective\n",
    "\n",
    "The power balance objective involves analyzing the difference between generated power and the demand for power. This difference can be used to assess the stability and efficiency of a power system. Here are the steps to calculate and interpret this difference:\n",
    "\n",
    "1. **Compute the Balance Difference**:\n",
    "   - Calculate the difference between generation and demand: \\( \\text{generation} - \\text{demand} \\).\n",
    "\n",
    "2. **Establish Upper and Lower Bounds**:\n",
    "   - Define upper and lower bounds for acceptable balance differences to ensure operational safety and efficiency.\n",
    "\n",
    "3. **Check Balance Within Bounds**:\n",
    "   - Determine if the computed balance difference lies within the defined bounds.\n",
    "\n",
    "#### Problem Analysis\n",
    "\n",
    "- **Problem 1: Excessive Generation**\n",
    "  - Determine the highest positive value the difference can take (where generation exceeds demand).\n",
    "  - Check if this value is less than the upper bound margin.\n",
    "  - If the value exceeds the upper bound, it indicates that generation significantly surpasses demand, which might lead to wasted resources or operational issues.\n",
    "\n",
    "- **Problem 2: Insufficient Generation**\n",
    "  - Identify the lowest negative value the difference can take (where demand exceeds generation).\n",
    "  - Check if this value is greater than the lower bound margin.\n",
    "  - If the value is less than the lower bound, it suggests that demand significantly surpasses generation, risking power outages or system strain.\n",
    "\n",
    "#### Risk Implications\n",
    "\n",
    "- **Over-Generation Risk**:\n",
    "  - If the balance for Problem 1 is positive but negative for Problem 2, it indicates a risk of over-generation without a risk of unmet demand.\n",
    "\n",
    "- **Under-Generation Risk**:\n",
    "  - Conversely, if the balance for Problem 1 is negative but positive for Problem 2, it highlights a potential for unmet demand without excessive generation.\n",
    "\n",
    "By monitoring these metrics, operators can make informed decisions to adjust generation levels or plan capacity enhancements, thereby ensuring a reliable power supply.\n"
   ]
  },
  {
   "cell_type": "code",
   "execution_count": 37,
   "metadata": {},
   "outputs": [
    {
     "name": "stdout",
     "output_type": "stream",
     "text": [
      "WARNING (W1002): Setting Var 'nn.scaled_inputs[0]' to a numeric value `0`\n",
      "outside the bounds (40.0, 60.0).\n",
      "    See also https://pyomo.readthedocs.io/en/stable/errors.html#w1002\n",
      "WARNING (W1002): Setting Var 'nn.scaled_inputs[0]' to a numeric value `0`\n",
      "outside the bounds (40.0, 60.0).\n",
      "    See also https://pyomo.readthedocs.io/en/stable/errors.html#w1002\n",
      "WARNING (W1002): Setting Var 'nn.scaled_inputs[1]' to a numeric value `0`\n",
      "outside the bounds (30.0, 50.0).\n",
      "    See also https://pyomo.readthedocs.io/en/stable/errors.html#w1002\n",
      "WARNING (W1002): Setting Var 'nn.scaled_inputs[2]' to a numeric value `0`\n",
      "outside the bounds (65.0, 85.0).\n",
      "    See also https://pyomo.readthedocs.io/en/stable/errors.html#w1002\n"
     ]
    }
   ],
   "source": [
    "import pyomo.environ as pyo\n",
    "\n",
    "# Assume m is your Pyomo model\n",
    "m = pyo.ConcreteModel()\n",
    "\n",
    "# create an OMLT block for the neural network and build its formulation\n",
    "m.nn = OmltBlock()\n",
    "m.nn.build_formulation(formulation) \n",
    "\n",
    "# Assuming you have already defined the variables `input` and `output` appropriately:\n",
    "# For example:\n",
    "m.input = pyo.Var([0, 1, 2], domain=pyo.Reals)\n",
    "m.output = pyo.Var([0, 1], domain=pyo.Reals)"
   ]
  },
  {
   "cell_type": "code",
   "execution_count": 38,
   "metadata": {},
   "outputs": [],
   "source": [
    "# Number of neurons in the input layer (set this to your specific size)\n",
    "input_neurons = 3\n",
    "\n",
    "# Variable representing the auxiliary variable for L1 norm\n",
    "if l1_norm_ball:\n",
    "    m.auxiliary = pyo.Var(range(input_neurons), domain=pyo.NonNegativeReals)"
   ]
  },
  {
   "cell_type": "code",
   "execution_count": 39,
   "metadata": {},
   "outputs": [],
   "source": [
    "# Connect Pyomo model input and output to the neural network\n",
    "# This essentially models the forward pass of the neural network as a constraint\n",
    "\n",
    "@m.Constraint()\n",
    "def connect_input1(mdl):\n",
    "    return mdl.input[0] == mdl.nn.inputs[0]\n",
    "\n",
    "@m.Constraint()\n",
    "def connect_input2(mdl):\n",
    "    return mdl.input[1] == mdl.nn.inputs[1]\n",
    "\n",
    "@m.Constraint()\n",
    "def connect_input3(mdl):\n",
    "    return mdl.input[2] == mdl.nn.inputs[2]\n",
    "\n",
    "@m.Constraint()\n",
    "def connect_output1(mdl):\n",
    "    return mdl.output[0] == mdl.nn.outputs[0]\n",
    "\n",
    "@m.Constraint()\n",
    "def connect_output2(mdl):\n",
    "    return mdl.output[1] == mdl.nn.outputs[1]"
   ]
  },
  {
   "cell_type": "code",
   "execution_count": 40,
   "metadata": {},
   "outputs": [
    {
     "data": {
      "text/plain": [
       "omlt.neuralnet.nn_formulation.FullSpaceNNFormulation"
      ]
     },
     "execution_count": 40,
     "metadata": {},
     "output_type": "execute_result"
    }
   ],
   "source": [
    "type(formulation)"
   ]
  },
  {
   "cell_type": "code",
   "execution_count": 41,
   "metadata": {},
   "outputs": [],
   "source": [
    "\n",
    "\n",
    "# Demand values for the middle constraint adjustments\n",
    "demand_middle = [50, 40, 75]\n",
    "\n",
    "if l1_norm_ball:\n",
    "\n",
    "    # Constraint for the L1 norm of the input\n",
    "    def l1_norm_constraint(m):\n",
    "        return sum((m.auxiliary[i]) for i in range(input_neurons)) <= 10\n",
    "\n",
    "    m.l1_norm = pyo.Constraint(rule=l1_norm_constraint)\n",
    "\n",
    "    # ConstraintList to hold the symmetric bounds around the demand values\n",
    "    m.u_constraints = pyo.ConstraintList()\n",
    "\n",
    "    # Adding symmetric bounds constraints\n",
    "    for i in range(input_neurons):\n",
    "        m.u_constraints.add(m.auxiliary[i] >= m.input[i] - demand_middle[i])\n",
    "        m.u_constraints.add(m.auxiliary[i] >= -(m.input[i] - demand_middle[i]))\n",
    "\n"
   ]
  },
  {
   "cell_type": "code",
   "execution_count": 42,
   "metadata": {},
   "outputs": [],
   "source": [
    "if l2_norm_ball:\n",
    "\n",
    "    # Constraint for the L2 norm of the input\n",
    "\n",
    "    def l2_norm_constraint(m):\n",
    "        sum_differences = 0\n",
    "        for i in range(input_neurons):\n",
    "            sum_differences += (m.input[i] - demand_middle[i]) ** 2\n",
    "        return sum_differences <= 10 ** 2\n",
    "    \n",
    "    m.l2_norm = pyo.Constraint(rule=l2_norm_constraint)"
   ]
  },
  {
   "cell_type": "code",
   "execution_count": 43,
   "metadata": {},
   "outputs": [
    {
     "name": "stdout",
     "output_type": "stream",
     "text": [
      "The margin of error in power balance is:  0.75\n"
     ]
    }
   ],
   "source": [
    "if power_balance:\n",
    "    balance = m.output[0] + m.output[1] - m.input[0] - m.input[1] - m.input[2]\n",
    "    # ub_power_balance = max(10**(-2), 10**(-2) * abs(m.input[0].value + m.input[1].value + m.input[2].value))\n",
    "    d_highest = max(center)\n",
    "    ub_power_balance = max(10**(-2), 10**(-2) * (d_highest))\n",
    "    lb_power_balance = -ub_power_balance\n",
    "\n",
    "    print(\"The margin of error in power balance is: \", ub_power_balance)\n",
    "\n",
    "    if pb_ub_condition:\n",
    "        expr = ub_power_balance - balance\n",
    "    else:\n",
    "        expr = balance - lb_power_balance\n",
    "else:\n",
    "    expr = max_gen1 - m.output[0]\n",
    "\n",
    "m.obj = pyo.Objective(expr=expr, sense=pyo.minimize)"
   ]
  },
  {
   "cell_type": "code",
   "execution_count": 44,
   "metadata": {},
   "outputs": [
    {
     "name": "stdout",
     "output_type": "stream",
     "text": [
      "Input 1: 40.0\n",
      "Input 2: 30.0\n",
      "Input 3: 85.0\n",
      "Output 1: 69.760808\n",
      "Output 2: 63.887096\n",
      "Objective: 22.102096000000017\n"
     ]
    }
   ],
   "source": [
    "# Solve the model using IPOPT\n",
    "solver_status = pyo.SolverFactory('cbc').solve(m, tee=False)\n",
    "\n",
    "for i in range(3):\n",
    "    print(f\"Input {i+1}: {m.input[i].value}\")\n",
    "\n",
    "for i in range(2):\n",
    "    print(f\"Output {i+1}: {m.output[i].value}\")\n",
    "\n",
    "print(f\"Objective: {m.obj()}\")"
   ]
  },
  {
   "cell_type": "code",
   "execution_count": 45,
   "metadata": {},
   "outputs": [
    {
     "name": "stdout",
     "output_type": "stream",
     "text": [
      "Center: [50 40 75]\n"
     ]
    }
   ],
   "source": [
    "# as a reminder, print the center of the ball\n",
    "\n",
    "print(f\"Center: {center}\")"
   ]
  },
  {
   "cell_type": "code",
   "execution_count": 46,
   "metadata": {},
   "outputs": [],
   "source": [
    "# verify the norm ball constraint\n",
    "\n",
    "if l2_norm_ball:\n",
    "    # Compute the L2 norm of the input\n",
    "    l2_norm = np.linalg.norm(np.array([m.input[i].value for i in range(3)]) - np.array(demand_middle), 2)\n",
    "    print(f\"L2 norm of the input: {l2_norm}\")"
   ]
  },
  {
   "cell_type": "code",
   "execution_count": 47,
   "metadata": {},
   "outputs": [
    {
     "name": "stdout",
     "output_type": "stream",
     "text": [
      "Model output: tensor([[71.4780, 70.3608]], grad_fn=<AddmmBackward0>)\n"
     ]
    }
   ],
   "source": [
    "some_input_new = torch.tensor([[m.input[0].value, 50, m.input[2].value]])\n",
    "output_new = model(some_input_new)\n",
    "print(\"Model output:\", output_new)"
   ]
  },
  {
   "cell_type": "markdown",
   "metadata": {},
   "source": [
    "### verify the results "
   ]
  },
  {
   "cell_type": "code",
   "execution_count": 48,
   "metadata": {},
   "outputs": [],
   "source": [
    "if power_balance == False and l1_norm_ball == True:    \n",
    "    outputs_1, outputs_2, outputs_3 = [], [], []\n",
    "    load1_values = list(range(40, 61))\n",
    "    load2_values = list(range(30, 51))\n",
    "    load3_values = list(range(70, 81))\n",
    "\n",
    "    if l1_norm_ball:\n",
    "        for load1 in load1_values:\n",
    "            input_demand = torch.tensor([[float(load1), 40, 75]])\n",
    "            output = model(input_demand)\n",
    "            objective = max_gen1 - output[0][0]\n",
    "            outputs_1.append(objective.item())\n",
    "\n",
    "        for load2 in load2_values:\n",
    "            input_demand = torch.tensor([[50, float(load2), 75]])\n",
    "            output = model(input_demand)\n",
    "            objective = max_gen1 - output[0][0]\n",
    "            outputs_2.append(objective.item())\n",
    "\n",
    "        for load3 in load3_values:\n",
    "            input_demand = torch.tensor([[50, 40, float(load3)]])\n",
    "            output = model(input_demand)\n",
    "            objective = max_gen1 - output[0][0]\n",
    "            outputs_3.append(objective.item())\n"
   ]
  },
  {
   "cell_type": "code",
   "execution_count": 49,
   "metadata": {},
   "outputs": [],
   "source": [
    "if power_balance == False and l1_norm_ball == True:\n",
    "\n",
    "    # plot on the same figure the objective values for different valuees of load1, load2, and load3\n",
    "\n",
    "    import matplotlib.pyplot as plt\n",
    "\n",
    "    if l1_norm_ball:\n",
    "\n",
    "        plt.plot(load1_values, outputs_1, label='Load1')\n",
    "        plt.plot(load2_values, outputs_2, label='Load2')\n",
    "        plt.plot(load3_values, outputs_3, label='Load3')\n",
    "\n",
    "        plt.hlines(0, 40, 60, colors='r', linestyles='dashed')\n",
    "\n",
    "        plt.xlabel('Load Value')\n",
    "        plt.ylabel('Objective Value')\n",
    "        plt.legend()\n",
    "        plt.show()"
   ]
  },
  {
   "cell_type": "code",
   "execution_count": 50,
   "metadata": {},
   "outputs": [],
   "source": [
    "if power_balance == False and l1_norm_ball == True:\n",
    "\n",
    "    # plot on the same figure the objective values for different valuees of load1, load2, and load3\n",
    "\n",
    "    import matplotlib.pyplot as plt\n",
    "\n",
    "    if l1_norm_ball:\n",
    "\n",
    "        plt.plot(load1_values, outputs_1, label='Load1')\n",
    "        plt.plot(load2_values, outputs_2, label='Load2')\n",
    "        plt.plot(load3_values, outputs_3, label='Load3')\n",
    "\n",
    "        plt.hlines(0, 40, 60, colors='r', linestyles='dashed')\n",
    "\n",
    "        plt.xlabel('Load Value')\n",
    "        plt.ylabel('Objective Value')\n",
    "        plt.legend()\n",
    "        plt.show()"
   ]
  },
  {
   "cell_type": "code",
   "execution_count": 51,
   "metadata": {},
   "outputs": [],
   "source": [
    "# print the minimum values for each case\n",
    "if power_balance == False and l1_norm_ball == True:\n",
    "    min_output_1 = min(outputs_1)\n",
    "    min_output_2 = min(outputs_2)\n",
    "    min_output_3 = min(outputs_3)\n",
    "\n",
    "    print(f\"Minimum objective value for Load1: {min_output_1}\")\n",
    "    print(f\"Minimum objective value for Load2: {min_output_2}\")\n",
    "    print(f\"Minimum objective value for Load3: {min_output_3}\")"
   ]
  },
  {
   "cell_type": "markdown",
   "metadata": {},
   "source": [
    "### try grid search for minimum"
   ]
  },
  {
   "cell_type": "code",
   "execution_count": 52,
   "metadata": {},
   "outputs": [],
   "source": [
    "if grid_search:    \n",
    "    grid_search_results = {}\n",
    "\n",
    "    for load1 in load1_values:\n",
    "        for load2 in load2_values:\n",
    "            for load3 in load3_values:\n",
    "                load = torch.tensor([[float(load1), float(load2), float(load3)]])\n",
    "                demand_middle_tensor = torch.tensor([[50, 40, 75]])\n",
    "                if l1_norm_ball:\n",
    "                    abs_difference = torch.abs(load - demand_middle_tensor)\n",
    "                    norm = abs_difference.sum()\n",
    "                else:\n",
    "                    squared_difference = (load - demand_middle_tensor) ** 2\n",
    "                    norm = torch.sqrt(squared_difference.sum())\n",
    "                    \n",
    "                if norm <= 10:\n",
    "                    output = model(load)\n",
    "                    objective = max_gen1 - output[0][0]\n",
    "                    grid_search_results[(load1, load2, load3)] = objective.item()"
   ]
  },
  {
   "cell_type": "code",
   "execution_count": 53,
   "metadata": {},
   "outputs": [],
   "source": [
    "if grid_search:\n",
    "    import torch\n",
    "\n",
    "    grid_search_results = {}\n",
    "    load1 = min(load1_values)\n",
    "    load2 = min(load2_values)\n",
    "    load3 = min(load3_values)\n",
    "\n",
    "    load1_max = max(load1_values)\n",
    "    load2_max = max(load2_values)\n",
    "    load3_max = max(load3_values)\n",
    "\n",
    "    demand_middle_tensor = torch.tensor([[50, 40, 75]])\n",
    "\n",
    "    while load1 <= load1_max:\n",
    "        load2 = min(load2_values)\n",
    "        while load2 <= load2_max:\n",
    "            load3 = min(load3_values)\n",
    "            while load3 <= load3_max:\n",
    "                load = torch.tensor([[float(load1), float(load2), float(load3)]])\n",
    "\n",
    "                if l1_norm_ball:\n",
    "                    abs_difference = torch.abs(load - demand_middle_tensor)\n",
    "                    norm = abs_difference.sum()\n",
    "                else:\n",
    "                    squared_difference = (load - demand_middle_tensor) ** 2\n",
    "                    norm = torch.sqrt(squared_difference.sum())\n",
    "                    \n",
    "                if norm <= 10:\n",
    "                    output = model(load)\n",
    "                    objective = max_gen1 - output[0][0]\n",
    "                    grid_search_results[(load1, load2, load3)] = objective.item()\n",
    "\n",
    "                load3 += 0.1\n",
    "            load2 += 0.1\n",
    "        load1 += 0.1\n"
   ]
  },
  {
   "cell_type": "code",
   "execution_count": 54,
   "metadata": {},
   "outputs": [],
   "source": [
    "if grid_search:\n",
    "\n",
    "    min_objective = min(grid_search_results.values())\n",
    "    min_loads = [loads for loads, objective in grid_search_results.items() if objective == min_objective]\n",
    "\n",
    "    print(f\"Minimum objective value: {min_objective}\")\n",
    "    print(f\"Corresponding loads: {min_loads}\")"
   ]
  }
 ],
 "metadata": {
  "kernelspec": {
   "display_name": "Python 3",
   "language": "python",
   "name": "python3"
  },
  "language_info": {
   "codemirror_mode": {
    "name": "ipython",
    "version": 3
   },
   "file_extension": ".py",
   "mimetype": "text/x-python",
   "name": "python",
   "nbconvert_exporter": "python",
   "pygments_lexer": "ipython3",
   "version": "3.11.1"
  }
 },
 "nbformat": 4,
 "nbformat_minor": 2
}
