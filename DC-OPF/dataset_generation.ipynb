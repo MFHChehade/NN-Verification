{
 "cells": [
  {
   "cell_type": "code",
   "execution_count": 1,
   "metadata": {},
   "outputs": [],
   "source": [
    "import cvxpy as cp\n",
    "import numpy as np\n",
    "import pandas as pd"
   ]
  },
  {
   "cell_type": "code",
   "execution_count": 2,
   "metadata": {},
   "outputs": [],
   "source": [
    "# Constants and data\n",
    "n_buses = 3\n",
    "n_lines = 2\n",
    "n_gens = 2\n",
    "X = [0.1, 0.1]  # Line reactances\n",
    "gen_limits = [(70, 95), (70, 95)]  # Generation limits (Pmin, Pmax)\n",
    "cost_coeffs = [(0.01, 2, 0), (0.015, 1.5, 0)]  # Cost coefficients (c, b, a)\n",
    "min_demand = [40, 30, 70]  # Minimum demand at each bus\n",
    "max_demand = [60, 50, 80]  # Maximum demand at each bus\n"
   ]
  },
  {
   "cell_type": "code",
   "execution_count": 3,
   "metadata": {},
   "outputs": [],
   "source": [
    "# Generate random demand scenarios\n",
    "np.random.seed(42)  # For reproducibility\n",
    "demand_scenarios = np.random.randint(min_demand, max_demand, size=(1000, n_buses))\n",
    "\n",
    "# Prepare DataFrame to store results\n",
    "columns = ['Demand1', 'Demand2', 'Demand3', 'Gen1', 'Gen2', 'Cost']\n",
    "df_results = pd.DataFrame(columns=columns)"
   ]
  },
  {
   "cell_type": "code",
   "execution_count": 4,
   "metadata": {},
   "outputs": [],
   "source": [
    "results_list = []  # List to store temporary results\n",
    "\n",
    "for Pd in demand_scenarios:\n",
    "    # Define variables\n",
    "    theta = cp.Variable(n_buses)\n",
    "    Pg = cp.Variable(n_gens)\n",
    "\n",
    "    # Objective function\n",
    "    objective = cp.Minimize(sum(cost_coeffs[i][0]*Pg[i]**2 + cost_coeffs[i][1]*Pg[i] + cost_coeffs[i][2] for i in range(n_gens)))\n",
    "\n",
    "    # Power flow expressions\n",
    "    Pf = [(theta[i] - theta[i + 1]) / X[i] for i in range(n_lines)]\n",
    "\n",
    "    # Constraints\n",
    "    constraints = []\n",
    "    constraints += [Pg[0] - Pd[0] + Pf[0] == 0]  # Bus 1\n",
    "    constraints += [-Pf[0] + Pf[1] - Pd[1] == 0] # Bus 2\n",
    "    constraints += [Pg[1] - Pd[2] - Pf[1] == 0]  # Bus 3\n",
    "\n",
    "    for i in range(n_gens):\n",
    "        constraints += [Pg[i] >= gen_limits[i][0], Pg[i] <= gen_limits[i][1]]\n",
    "\n",
    "    # Solve the problem\n",
    "    problem = cp.Problem(objective, constraints)\n",
    "    problem.solve()\n",
    "\n",
    "    # Collect results and append to the list\n",
    "    if problem.status == cp.OPTIMAL:\n",
    "        results_list.append(pd.Series([Pd[0], Pd[1], Pd[2], Pg.value[0], Pg.value[1], problem.value], index=columns))\n",
    "    else:\n",
    "        results_list.append(pd.Series([Pd[0], Pd[1], Pd[2], None, None, None], index=columns))"
   ]
  },
  {
   "cell_type": "code",
   "execution_count": 5,
   "metadata": {},
   "outputs": [
    {
     "name": "stdout",
     "output_type": "stream",
     "text": [
      "   Demand1  Demand2  Demand3  Gen1  Gen2     Cost\n",
      "0     46.0     49.0     77.0  93.2  78.8  484.604\n",
      "1     46.0     48.0     76.0  92.0  78.0  476.900\n",
      "2     50.0     40.0     77.0  90.2  76.8  465.434\n",
      "3     43.0     37.0     77.0  84.2  72.8  427.994\n",
      "4     42.0     31.0     77.0  80.0  70.0  402.500\n"
     ]
    }
   ],
   "source": [
    "# Concatenate all results into the DataFrame\n",
    "df_results = pd.concat([df_results, pd.DataFrame(results_list, columns=columns)], ignore_index=True)\n",
    "\n",
    "# Display a few results to check\n",
    "print(df_results.head())"
   ]
  },
  {
   "cell_type": "code",
   "execution_count": 6,
   "metadata": {},
   "outputs": [],
   "source": [
    "# export dataset to csv\n",
    "\n",
    "df_results.to_csv('results.csv', index=False)"
   ]
  }
 ],
 "metadata": {
  "kernelspec": {
   "display_name": "Python 3",
   "language": "python",
   "name": "python3"
  },
  "language_info": {
   "codemirror_mode": {
    "name": "ipython",
    "version": 3
   },
   "file_extension": ".py",
   "mimetype": "text/x-python",
   "name": "python",
   "nbconvert_exporter": "python",
   "pygments_lexer": "ipython3",
   "version": "3.11.1"
  }
 },
 "nbformat": 4,
 "nbformat_minor": 2
}
